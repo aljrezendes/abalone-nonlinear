{
 "cells": [
  {
   "cell_type": "markdown",
   "id": "df03d63a-cdf0-4785-88eb-4ada019b1bd2",
   "metadata": {},
   "source": [
    "# DDS-8555 Assignment 2: Regression Modeling and Interpretation"
   ]
  },
  {
   "cell_type": "markdown",
   "id": "0546ea5a-213b-4863-82c1-63c21e325ecc",
   "metadata": {
    "jp-MarkdownHeadingCollapsed": true
   },
   "source": [
    "# Assignment 2 – DDS-8555\n",
    "**Author:** Andrew L.J. Rezendes  \n",
    "**Course:** Predictive Analysis  \n",
    "**Date:** June 2025\n",
    "\n",
    "---\n",
    "\n",
    "## Part 1: Conceptual Question #3 (ISLR, p. 128–129)\n",
    "\n",
    "3. Suppose we have a data set with fve predictors, X1 = GPA, X2 =\n",
    "IQ, X3 = Level (1 for College and 0 for High School), X4 = Interaction between GPA and IQ, and X5 = Interaction between GPA and\n",
    "Level. The response is starting salary after graduation (in thousands\n",
    "of dollars). Suppose we use least squares to ft the model, and get\n",
    "βˆ0 = 50, βˆ1 = 20, βˆ2 = 0.07, βˆ3 = 35, βˆ4 = 0.01, βˆ5 = −10.\n",
    "\n",
    "(a) Which answer is correct, and why?\n",
    "\n",
    "i. For a fixed value of IQ and GPA, high school graduates earn\n",
    "more, on average, than college graduates.\n",
    "\n",
    "ii. For a fixed value of IQ and GPA, college graduates earn\n",
    "more, on average, than high school graduates.\n",
    "\n",
    "128 3. Linear Regression\n",
    "\n",
    "iii. For a fixed value of IQ and GPA, high school graduates earn\n",
    "more, on average, than college graduates provided that the\n",
    "GPA is high enough.\n",
    "\n",
    "iv. For a fixed value of IQ and GPA, college graduates earn\n",
    "more, on average, than high school graduates provided that\n",
    "the GPA is high enough.\n",
    "\n",
    "(b) Predict the salary of a college graduate with IQ of 110 and a\n",
    "GPA of 4.0.\n",
    "\n",
    "(c) True or false: Since the coefficient for the GPA/IQ interaction\n",
    "term is very small, there is very little evidence of an interaction\n",
    "effect. Justify your answer.\n",
    "\n",
    "### Answer:\n",
    "_Write your explanation here, including references where applicable._\n",
    "\n",
    "---\n",
    "\n",
    "## Part 2: Applied Question #10 (ISLR, p. 130)\n",
    "\n",
    "> _Include the full text or a paraphrase of the question._\n",
    "\n",
    "### Data Loading and Preprocessing\n",
    "```python\n",
    "# Import libraries and load data here\n"
   ]
  }
 ],
 "metadata": {
  "kernelspec": {
   "display_name": "Python [conda env:base] *",
   "language": "python",
   "name": "conda-base-py"
  },
  "language_info": {
   "codemirror_mode": {
    "name": "ipython",
    "version": 3
   },
   "file_extension": ".py",
   "mimetype": "text/x-python",
   "name": "python",
   "nbconvert_exporter": "python",
   "pygments_lexer": "ipython3",
   "version": "3.12.7"
  }
 },
 "nbformat": 4,
 "nbformat_minor": 5
}
